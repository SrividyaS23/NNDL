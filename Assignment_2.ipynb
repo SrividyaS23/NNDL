{
  "nbformat": 4,
  "nbformat_minor": 0,
  "metadata": {
    "colab": {
      "name": "Assignment 2",
      "provenance": [],
      "authorship_tag": "ABX9TyNRg5dgacY8OIjGFSDz/Sj2",
      "include_colab_link": true
    },
    "kernelspec": {
      "name": "python3",
      "display_name": "Python 3"
    },
    "language_info": {
      "name": "python"
    }
  },
  "cells": [
    {
      "cell_type": "markdown",
      "metadata": {
        "id": "view-in-github",
        "colab_type": "text"
      },
      "source": [
        "<a href=\"https://colab.research.google.com/github/SrividyaS23/NNDL/blob/main/Assignment_2.ipynb\" target=\"_parent\"><img src=\"https://colab.research.google.com/assets/colab-badge.svg\" alt=\"Open In Colab\"/></a>"
      ]
    },
    {
      "cell_type": "markdown",
      "metadata": {
        "id": "rZeq3yZSjxeo"
      },
      "source": [
        "Assignment 2"
      ]
    },
    {
      "cell_type": "code",
      "metadata": {
        "colab": {
          "base_uri": "https://localhost:8080/"
        },
        "id": "U_cxkw7DjrI7",
        "outputId": "522c60bf-d8a0-40d9-d6ef-5d8430e4b3f2"
      },
      "source": [
        "from sympy import *\n",
        "x=symbols('x')\n",
        "y=symbols('y')\n",
        "f=x**2+y**2+10\n",
        "u=diff(f,x) \n",
        "v=diff(f,y) \n",
        "print(\"df/dx=\",u)\n",
        "print(\"df/dy=\",v,\"\\n\")\n",
        "X=-1\n",
        "Y=1\n",
        "itr=1 \n",
        "n=0.1 \n",
        "epoch=2\n",
        "while (itr <= epoch) :\n",
        "   x1=u.subs(x,X)\n",
        "   y1=v.subs(y,Y)\n",
        "   print(f\"differentiation of f({X}) =\",x1)\n",
        "   print(f\"differentiation of f({Y}) =\",y1)\n",
        "   deltax=-n*x1\n",
        "   deltay=-n*y1\n",
        "   print(\"delta of x =\",deltax)\n",
        "   print(\"delta of y =\",deltay)\n",
        "   newx = X + deltax\n",
        "   newy = Y + deltay\n",
        "   print(\"new x =\",newx)\n",
        "   print(\"new y =\",newy)\n",
        "   itr= itr + 1\n",
        "   X=newx\n",
        "   Y=newy\n",
        "   print(' ')\n",
        "print(\"final x value =\",X)\n",
        "print(\"final y value =\",Y)\n",
        "print(\"Minimum value of f(x) is\",f.subs([(x,X),(y,Y)]))"
      ],
      "execution_count": null,
      "outputs": [
        {
          "output_type": "stream",
          "text": [
            "df/dx= 2*x\n",
            "df/dy= 2*y \n",
            "\n",
            "differentiation of f(-1) = -2\n",
            "differentiation of f(1) = 2\n",
            "delta of x = 0.200000000000000\n",
            "delta of y = -0.200000000000000\n",
            "new x = -0.800000000000000\n",
            "new y = 0.800000000000000\n",
            " \n",
            "differentiation of f(-0.800000000000000) = -1.60000000000000\n",
            "differentiation of f(0.800000000000000) = 1.60000000000000\n",
            "delta of x = 0.160000000000000\n",
            "delta of y = -0.160000000000000\n",
            "new x = -0.640000000000000\n",
            "new y = 0.640000000000000\n",
            " \n",
            "final x value = -0.640000000000000\n",
            "final y value = 0.640000000000000\n",
            "Minimum value of f(x) is 10.8192000000000\n"
          ],
          "name": "stdout"
        }
      ]
    },
    {
      "cell_type": "markdown",
      "metadata": {
        "id": "xa-ZSKHJjvgG"
      },
      "source": [
        ""
      ]
    }
  ]
}