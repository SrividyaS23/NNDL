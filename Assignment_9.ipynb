{
  "nbformat": 4,
  "nbformat_minor": 0,
  "metadata": {
    "colab": {
      "name": "Assignment_9.ipynb",
      "provenance": [],
      "authorship_tag": "ABX9TyOksCFK464gMXP1M9FzWIf/",
      "include_colab_link": true
    },
    "kernelspec": {
      "name": "python3",
      "display_name": "Python 3"
    },
    "language_info": {
      "name": "python"
    }
  },
  "cells": [
    {
      "cell_type": "markdown",
      "metadata": {
        "id": "view-in-github",
        "colab_type": "text"
      },
      "source": [
        "<a href=\"https://colab.research.google.com/github/SrividyaS23/NNDL/blob/main/Assignment_9.ipynb\" target=\"_parent\"><img src=\"https://colab.research.google.com/assets/colab-badge.svg\" alt=\"Open In Colab\"/></a>"
      ]
    },
    {
      "cell_type": "code",
      "metadata": {
        "colab": {
          "base_uri": "https://localhost:8080/"
        },
        "id": "Lyjx-5Ze0CGn",
        "outputId": "52abcc14-fc06-4489-e20f-ea8b1d2ce948"
      },
      "source": [
        "import pandas as pd\n",
        "from sympy import *\n",
        "d1=[[0.2,3.4],[0.4,3.8],[0.6,4.2],[0.8,4.6]]\n",
        "d2=pd.DataFrame(d1,columns=(\"X\",\"Y\"))\n",
        "print(d2)\n",
        "m=1\n",
        "c=-1\n",
        "N=0.1\n",
        "G=0.9\n",
        "VM=0\n",
        "VC=0\n",
        "epochs=100\n",
        "x=symbols('x')\n",
        "y=symbols('y')\n",
        "g=symbols('g')\n",
        "n=symbols('n')\n",
        "vm=symbols('vm')\n",
        "gm1=symbols('gm1')\n",
        "vc=symbols('vc')\n",
        "gc1=symbols('gc1')\n",
        "l=len(d2)\n",
        "for i in range(epochs):\n",
        "  for j in range(l):\n",
        "    gm=-(y-m*x-c)*x\n",
        "    gc=-(y-m*x-c)\n",
        "    vm1=g*vm-n*gm1\n",
        "    vc1=g*vc-n*gc1\n",
        "    #print(j)\n",
        "    x1=d2.iloc[j,0]\n",
        "    y1=d2.iloc[j,1]\n",
        "    gm2=gm.subs([(x,x1),(y,y1)])\n",
        "    gc2=gc.subs([(x,x1),(y,y1)])\n",
        "    vm2=vm1.subs([(g,G),(vm,VM),(n,N),(gm1,gm2)])\n",
        "    vc2=vc1.subs([(g,G),(vc,VC),(n,N),(gc1,gc2)])\n",
        "    newm = m + vm2\n",
        "    newc = c + vc2\n",
        "    m=newm\n",
        "    c=newc\n",
        "    VM=vm2\n",
        "    VC=vc2\n",
        "    #print(\"m=\",m,\"c=\",c)\n",
        "fm=round(m,2)\n",
        "fc=round(c,2)\n",
        "print(\"final m value=\",fm)\n",
        "print(\"final c value=\",fc)\n"
      ],
      "execution_count": 1,
      "outputs": [
        {
          "output_type": "stream",
          "text": [
            "     X    Y\n",
            "0  0.2  3.4\n",
            "1  0.4  3.8\n",
            "2  0.6  4.2\n",
            "3  0.8  4.6\n",
            "final m value= 2.00000000000000\n",
            "final c value= 3.00000000000000\n"
          ],
          "name": "stdout"
        }
      ]
    }
  ]
}